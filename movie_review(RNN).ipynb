{
  "nbformat": 4,
  "nbformat_minor": 0,
  "metadata": {
    "colab": {
      "name": "movie_review(RNN).ipynb",
      "provenance": [],
      "authorship_tag": "ABX9TyNJpEOssGKq6+CRhNXHewq4",
      "include_colab_link": true
    },
    "kernelspec": {
      "name": "python3",
      "display_name": "Python 3"
    },
    "language_info": {
      "name": "python"
    }
  },
  "cells": [
    {
      "cell_type": "markdown",
      "metadata": {
        "id": "view-in-github",
        "colab_type": "text"
      },
      "source": [
        "<a href=\"https://colab.research.google.com/github/pratbharat/MachineLearning/blob/main/movie_review(RNN).ipynb\" target=\"_parent\"><img src=\"https://colab.research.google.com/assets/colab-badge.svg\" alt=\"Open In Colab\"/></a>"
      ]
    },
    {
      "cell_type": "code",
      "metadata": {
        "colab": {
          "base_uri": "https://localhost:8080/"
        },
        "id": "hE75lYG9clrG",
        "outputId": "50731a07-df14-4e5c-f20f-ed96a36bb61c"
      },
      "source": [
        "pip install h5py"
      ],
      "execution_count": null,
      "outputs": [
        {
          "output_type": "stream",
          "text": [
            "Requirement already satisfied: h5py in /usr/local/lib/python3.7/dist-packages (2.10.0)\n",
            "Requirement already satisfied: numpy>=1.7 in /usr/local/lib/python3.7/dist-packages (from h5py) (1.19.5)\n",
            "Requirement already satisfied: six in /usr/local/lib/python3.7/dist-packages (from h5py) (1.15.0)\n"
          ],
          "name": "stdout"
        }
      ]
    },
    {
      "cell_type": "code",
      "metadata": {
        "colab": {
          "base_uri": "https://localhost:8080/"
        },
        "id": "0hI7amFdbxfN",
        "outputId": "dbc14498-7426-4573-9e94-a2e3c6eaae72"
      },
      "source": [
        "# Download word vectors\n",
        "from urllib.request import urlretrieve\n",
        "import os\n",
        "if not os.path.isfile('/content/mini.h5'):\n",
        "    print(\"Downloading Conceptnet Numberbatch word embeddings...\")\n",
        "    conceptnet_url = 'http://conceptnet.s3.amazonaws.com/precomputed-data/2016/numberbatch/17.06/mini.h5'\n",
        "    urlretrieve(conceptnet_url, '/content/mini.h5')"
      ],
      "execution_count": 1,
      "outputs": [
        {
          "output_type": "stream",
          "text": [
            "Downloading Conceptnet Numberbatch word embeddings...\n"
          ],
          "name": "stdout"
        }
      ]
    },
    {
      "cell_type": "code",
      "metadata": {
        "colab": {
          "base_uri": "https://localhost:8080/"
        },
        "id": "kgypb57xd3mz",
        "outputId": "17c9a313-409a-4443-a446-5cfa3779b8e8"
      },
      "source": [
        "# Load the file and pull out words and embeddings\n",
        "import h5py\n",
        "\n",
        "with h5py.File('/content/mini.h5', 'r') as f:\n",
        "    all_words = [word.decode('utf-8') for word in f['mat']['axis1'][:]]\n",
        "    all_embeddings = f['mat']['block0_values'][:]\n",
        "    \n",
        "print(\"all_words dimensions: {}\".format(len(all_words)))\n",
        "print(\"all_embeddings dimensions: {}\".format(all_embeddings.shape))\n",
        "\n",
        "print(\"Random example word: {}\".format(all_words[1337:1347]))\n",
        "print(\"Random example embeddings: {}\".format((all_embeddings[1337][:]).shape))\n",
        "[word[6:] for word in all_words if word.startswith('c/en/')]"
      ],
      "execution_count": 13,
      "outputs": [
        {
          "output_type": "stream",
          "text": [
            "all_words dimensions: 362891\n",
            "all_embeddings dimensions: (362891, 300)\n",
            "Random example word: ['/c/de/aufmachung', '/c/de/aufmarsch', '/c/de/aufmerksam', '/c/de/aufmerksamkeit', '/c/de/aufn', '/c/de/aufnahme', '/c/de/aufnahmen', '/c/de/aufnehmen', '/c/de/aufpassen', '/c/de/aufprall']\n",
            "Random example embeddings: (300,)\n"
          ],
          "name": "stdout"
        },
        {
          "output_type": "execute_result",
          "data": {
            "text/plain": [
              "[]"
            ]
          },
          "metadata": {
            "tags": []
          },
          "execution_count": 13
        }
      ]
    },
    {
      "cell_type": "code",
      "metadata": {
        "id": "N4kyOmncckmn",
        "colab": {
          "base_uri": "https://localhost:8080/"
        },
        "outputId": "18c08531-f33a-4552-929b-e4f094d1b9ce"
      },
      "source": [
        "# Restrict our vocabulary to just the English words\n",
        "english_words = [word[6:] for word in all_words if word.startswith('/c/en/')]\n",
        "english_word_indices = [i for i, word in enumerate(all_words) if word.startswith('/c/en/')]\n",
        "english_embeddings = all_embeddings[english_word_indices]\n",
        "\n",
        "print(\"Number of English words in all_words: {0}\".format(len(english_words)))\n",
        "print(\"english_embeddings dimensions: {0}\".format(english_embeddings.shape))\n",
        "\n",
        "print(english_words[1337])"
      ],
      "execution_count": 22,
      "outputs": [
        {
          "output_type": "stream",
          "text": [
            "Number of English words in all_words: 150875\n",
            "english_embeddings dimensions: (150875, 300)\n",
            "activated_carbon\n"
          ],
          "name": "stdout"
        }
      ]
    },
    {
      "cell_type": "code",
      "metadata": {
        "id": "63472d8OcLH5",
        "colab": {
          "base_uri": "https://localhost:8080/"
        },
        "outputId": "5ed36886-c544-4da0-e3c7-f6c705f9a1f1"
      },
      "source": [
        "import numpy as np\n",
        "\n",
        "norms = np.linalg.norm(english_embeddings, axis=1)\n",
        "normalized_embeddings = english_embeddings.astype('float32') / norms.astype('float32').reshape([-1, 1])\n",
        "print(norms[1337])"
      ],
      "execution_count": 26,
      "outputs": [
        {
          "output_type": "stream",
          "text": [
            "57.0350769263968\n"
          ],
          "name": "stdout"
        }
      ]
    },
    {
      "cell_type": "code",
      "metadata": {
        "id": "2ttVXxn-cXOm"
      },
      "source": [
        "index = {word: i for i, word in enumerate(english_words)}"
      ],
      "execution_count": 27,
      "outputs": []
    },
    {
      "cell_type": "code",
      "metadata": {
        "colab": {
          "base_uri": "https://localhost:8080/"
        },
        "id": "CazlMUDucehA",
        "outputId": "34eecc5b-db8b-4876-d683-0b9c763d942c"
      },
      "source": [
        "def similarity_score(w1, w2):\n",
        "    score = np.dot(normalized_embeddings[index[w1], :], normalized_embeddings[index[w2], :])\n",
        "    return score\n",
        "\n",
        "print([index['cat']])\n",
        "\n",
        "# A word is as similar with itself as possible:\n",
        "print('cat\\tcat\\t', similarity_score('cat', 'cat'))\n",
        "\n",
        "# Closely related words still get high scores:\n",
        "print('cat\\tfeline\\t', similarity_score('cat', 'feline'))\n",
        "print('cat\\tdog\\t', similarity_score('cat', 'dog'))\n",
        "\n",
        "# Unrelated words, not so much\n",
        "print('cat\\tmoo\\t', similarity_score('cat', 'moo'))\n",
        "print('cat\\tfreeze\\t', similarity_score('cat', 'freeze'))\n",
        "\n",
        "# Antonyms are still considered related, sometimes more so than synonyms\n",
        "print('antonym\\topposite\\t', similarity_score('antonym', 'opposite'))\n",
        "print('antonym\\tsynonym\\t', similarity_score('antonym', 'synonym'))"
      ],
      "execution_count": 32,
      "outputs": [
        {
          "output_type": "stream",
          "text": [
            "[21398]\n",
            "cat\tcat\t 1.0000001\n",
            "cat\tfeline\t 0.8199548\n",
            "cat\tdog\t 0.590724\n",
            "cat\tmoo\t 0.0039538303\n",
            "cat\tfreeze\t -0.030225191\n",
            "antonym\topposite\t 0.3941065\n",
            "antonym\tsynonym\t 0.46883982\n"
          ],
          "name": "stdout"
        }
      ]
    },
    {
      "cell_type": "code",
      "metadata": {
        "id": "T3Eke-NodBFP"
      },
      "source": [
        "def closest_to_vector(v, n):\n",
        "    all_scores = np.dot(normalized_embeddings, v)\n",
        "    best_words = list(map(lambda i: english_words[i], reversed(np.argsort(all_scores))))\n",
        "    return best_words[:n]\n",
        "\n",
        "def most_similar(w, n):\n",
        "    return closest_to_vector(normalized_embeddings[index[w], :], n)"
      ],
      "execution_count": 36,
      "outputs": []
    },
    {
      "cell_type": "code",
      "metadata": {
        "colab": {
          "base_uri": "https://localhost:8080/"
        },
        "id": "JM2_3vRkdFjK",
        "outputId": "dfdb835c-9f31-4aaa-9057-293f48e1db01"
      },
      "source": [
        "print(most_similar('cat', 10))\n",
        "print(most_similar('dog', 10))\n",
        "print(most_similar('duke', 10))"
      ],
      "execution_count": 37,
      "outputs": [
        {
          "output_type": "stream",
          "text": [
            "['cat', 'humane_society', 'kitten', 'feline', 'colocolo', 'cats', 'kitty', 'maine_coon', 'housecat', 'sharp_teeth']\n",
            "['dog', 'dogs', 'wire_haired_dachshund', 'doggy_paddle', 'lhasa_apso', 'good_friend', 'puppy_dog', 'bichon_frise', 'woof_woof', 'golden_retrievers']\n",
            "['duke', 'dukes', 'duchess', 'duchesses', 'ducal', 'dukedom', 'duchy', 'voivode', 'princes', 'prince']\n"
          ],
          "name": "stdout"
        }
      ]
    },
    {
      "cell_type": "code",
      "metadata": {
        "colab": {
          "base_uri": "https://localhost:8080/"
        },
        "id": "F7bbCgM1t6gP",
        "outputId": "a7c59bec-d2d5-4e3d-f59c-de7bca5fc27c"
      },
      "source": [
        "def solve_analogy(a1, b1, a2):\n",
        "    b2 = normalized_embeddings[index[b1], :] - normalized_embeddings[index[a1], :] + normalized_embeddings[index[a2], :]\n",
        "    return closest_to_vector(b2, 1)\n",
        "\n",
        "print(solve_analogy(\"man\", \"brother\", \"woman\"))\n",
        "print(solve_analogy(\"man\", \"husband\", \"woman\"))\n",
        "print(solve_analogy(\"spain\", \"madrid\", \"france\"))"
      ],
      "execution_count": 40,
      "outputs": [
        {
          "output_type": "stream",
          "text": [
            "['sister']\n",
            "['wife']\n",
            "['paris']\n"
          ],
          "name": "stdout"
        }
      ]
    },
    {
      "cell_type": "code",
      "metadata": {
        "id": "HsCSNe3OhOmO"
      },
      "source": [
        "if not os.path.isfile('/content/movie-simple.txt'):\n",
        "  url= 'https://github.com/duke-mlss/Duke-MLSS-2018/blob/master/movie-simple.txt'\n",
        "  urlretrieve(url, '/content/movie-simple.txt')"
      ],
      "execution_count": 47,
      "outputs": []
    },
    {
      "cell_type": "code",
      "metadata": {
        "id": "F4NPjRW_mcIA"
      },
      "source": [
        "import string\n",
        "remove_punct=str.maketrans('','',string.punctuation)\n",
        "\n",
        "# This function converts a line of our data file into\n",
        "# a tuple (x, y), where x is 300-dimensional representation\n",
        "# of the words in a review, and y is its label.\n",
        "def convert_line_to_example(line):\n",
        "    # Pull out the first character: that's our label (0 or 1)\n",
        "    y = int(line[0])\n",
        "    \n",
        "    # Split the line into words using Python's split() function\n",
        "    words = line[2:].translate(remove_punct).lower().split()\n",
        "    \n",
        "    # Look up the embeddings of each word, ignoring words not\n",
        "    # in our pretrained vocabulary.\n",
        "    embeddings = [normalized_embeddings[index[w]] for w in words\n",
        "                  if w in index]\n",
        "    \n",
        "    # Take the mean of the embeddings\n",
        "    x = np.mean(np.vstack(embeddings), axis=0)\n",
        "    return x, y\n",
        "\n",
        "# Apply the function to each line in the file.\n",
        "xs = []\n",
        "ys = []\n",
        "with open(\"/content/movie-simple.txt\", \"r\", encoding='utf-8', errors='ignore') as f:\n",
        "    for l in f.readlines():\n",
        "        x, y = convert_line_to_example(l)\n",
        "        xs.append(x)\n",
        "        ys.append(y)\n",
        "\n",
        "# Concatenate all examples into a numpy array\n",
        "xs = np.vstack(xs)\n",
        "ys = np.vstack(ys)"
      ],
      "execution_count": 52,
      "outputs": []
    },
    {
      "cell_type": "code",
      "metadata": {
        "colab": {
          "base_uri": "https://localhost:8080/"
        },
        "id": "GWsM-B-C8T1s",
        "outputId": "3e84d45e-89ac-47d8-8dc5-918dbc0382d3"
      },
      "source": [
        "print(\"Shape of inputs: {}\".format(xs.shape))\n",
        "print(\"Shape of labels: {}\".format(ys.shape))\n",
        "\n",
        "num_examples = xs.shape[0]"
      ],
      "execution_count": 54,
      "outputs": [
        {
          "output_type": "stream",
          "text": [
            "Shape of inputs: (1411, 300)\n",
            "Shape of labels: (1411, 1)\n"
          ],
          "name": "stdout"
        }
      ]
    },
    {
      "cell_type": "code",
      "metadata": {
        "colab": {
          "base_uri": "https://localhost:8080/"
        },
        "id": "noUBmYsd7zog",
        "outputId": "031c16aa-ed13-4f6b-c307-1ea8b02fc279"
      },
      "source": [
        "print(\"First 20 labels before shuffling: {0}\".format(ys[:20, 0]))\n",
        "\n",
        "shuffle_idx = np.random.permutation(num_examples)\n",
        "xs = xs[shuffle_idx, :]\n",
        "ys = ys[shuffle_idx, :]\n",
        "\n",
        "print(\"First 20 labels after shuffling: {0}\".format(ys[:20, 0]))"
      ],
      "execution_count": 55,
      "outputs": [
        {
          "output_type": "stream",
          "text": [
            "First 20 labels before shuffling: [0 0 0 0 0 0 0 0 0 0 0 0 0 0 0 0 0 0 0 0]\n",
            "First 20 labels after shuffling: [0 0 1 0 0 1 1 1 0 0 1 1 0 1 1 0 0 0 1 1]\n"
          ],
          "name": "stdout"
        }
      ]
    },
    {
      "cell_type": "code",
      "metadata": {
        "id": "C089lE1I8wNl"
      },
      "source": [
        "import torch\n",
        "\n",
        "num_train = 4*num_examples // 5\n",
        "\n",
        "x_train = torch.tensor(xs[:num_train])\n",
        "y_train = torch.tensor(ys[:num_train], dtype=torch.float32)\n",
        "\n",
        "x_test = torch.tensor(xs[num_train:])\n",
        "y_test = torch.tensor(ys[num_train:], dtype=torch.float32)"
      ],
      "execution_count": 56,
      "outputs": []
    },
    {
      "cell_type": "code",
      "metadata": {
        "id": "VFZEipAS88_5"
      },
      "source": [
        "reviews_train = torch.utils.data.TensorDataset(x_train, y_train)\n",
        "reviews_test = torch.utils.data.TensorDataset(x_test, y_test)\n",
        "\n",
        "train_loader = torch.utils.data.DataLoader(reviews_train, batch_size=100, shuffle=True)\n",
        "test_loader = torch.utils.data.DataLoader(reviews_test, batch_size=100, shuffle=False)"
      ],
      "execution_count": 57,
      "outputs": []
    },
    {
      "cell_type": "code",
      "metadata": {
        "id": "1ElqgFtP9kZc"
      },
      "source": [
        "import torch.nn as nn\n",
        "import torch.nn.functional as F"
      ],
      "execution_count": 58,
      "outputs": []
    },
    {
      "cell_type": "code",
      "metadata": {
        "id": "UohtBqmp93cs"
      },
      "source": [
        "class SWEM(nn.Module):\n",
        "    def __init__(self):\n",
        "        super().__init__()\n",
        "        self.fc1 = nn.Linear(300, 64)\n",
        "        self.fc2 = nn.Linear(64, 1)\n",
        "\n",
        "    def forward(self, x):\n",
        "        x = self.fc1(x)\n",
        "        x = F.relu(x)\n",
        "        x = self.fc2(x)\n",
        "        return x"
      ],
      "execution_count": 59,
      "outputs": []
    },
    {
      "cell_type": "code",
      "metadata": {
        "colab": {
          "base_uri": "https://localhost:8080/"
        },
        "id": "z4hUmUsH-NOU",
        "outputId": "1f336194-2690-4270-9974-4c26503fdf7f"
      },
      "source": [
        "## Training\n",
        "# Instantiate model\n",
        "model = SWEM()\n",
        "\n",
        "# Binary cross-entropy (BCE) Loss and Adam Optimizer\n",
        "criterion = nn.BCEWithLogitsLoss()\n",
        "optimizer = torch.optim.Adam(model.parameters(), lr=0.001)\n",
        "\n",
        "# Iterate through train set minibatchs \n",
        "for epoch in range(250):\n",
        "    correct = 0\n",
        "    num_examples = 0\n",
        "    for inputs, labels in train_loader:\n",
        "        # Zero out the gradients\n",
        "        optimizer.zero_grad()\n",
        "        \n",
        "        # Forward pass\n",
        "        y = model(inputs)\n",
        "        loss = criterion(y, labels)\n",
        "        \n",
        "        # Backward pass\n",
        "        loss.backward()\n",
        "        optimizer.step()\n",
        "        \n",
        "        predictions = torch.round(torch.sigmoid(y))\n",
        "        correct += torch.sum((predictions == labels).float())\n",
        "        num_examples += len(inputs)\n",
        "    \n",
        "    # Print training progress\n",
        "    if epoch % 25 == 0:\n",
        "        acc = correct/num_examples\n",
        "        print(\"Epoch: {0} \\t Train Loss: {1} \\t Train Acc: {2}\".format(epoch, loss, acc))\n",
        "\n",
        "## Testing\n",
        "correct = 0\n",
        "num_test = 0\n",
        "\n",
        "with torch.no_grad():\n",
        "    # Iterate through test set minibatchs \n",
        "    for inputs, labels in test_loader:\n",
        "        # Forward pass\n",
        "        y = model(inputs)\n",
        "        \n",
        "        predictions = torch.round(torch.sigmoid(y))\n",
        "        correct += torch.sum((predictions == labels).float())\n",
        "        num_test += len(inputs)\n",
        "    \n",
        "print('Test accuracy: {}'.format(correct/num_test))"
      ],
      "execution_count": 60,
      "outputs": [
        {
          "output_type": "stream",
          "text": [
            "Epoch: 0 \t Train Loss: 0.6898457407951355 \t Train Acc: 0.5602836608886719\n",
            "Epoch: 25 \t Train Loss: 0.1201692670583725 \t Train Acc: 0.9485815763473511\n",
            "Epoch: 50 \t Train Loss: 0.08431728184223175 \t Train Acc: 0.9689716100692749\n",
            "Epoch: 75 \t Train Loss: 0.060996949672698975 \t Train Acc: 0.9769503474235535\n",
            "Epoch: 100 \t Train Loss: 0.031703490763902664 \t Train Acc: 0.9822695255279541\n",
            "Epoch: 125 \t Train Loss: 0.0797470286488533 \t Train Acc: 0.9867021441459656\n",
            "Epoch: 150 \t Train Loss: 0.05827862396836281 \t Train Acc: 0.9893617033958435\n",
            "Epoch: 175 \t Train Loss: 0.020085254684090614 \t Train Acc: 0.9902482032775879\n",
            "Epoch: 200 \t Train Loss: 0.014501338824629784 \t Train Acc: 0.993794322013855\n",
            "Epoch: 225 \t Train Loss: 0.0072761462070047855 \t Train Acc: 0.9946808218955994\n",
            "Test accuracy: 0.9505300521850586\n"
          ],
          "name": "stdout"
        }
      ]
    },
    {
      "cell_type": "code",
      "metadata": {
        "colab": {
          "base_uri": "https://localhost:8080/"
        },
        "id": "ih6Al4KW-4s0",
        "outputId": "6a4c2632-b37c-4747-8193-babc1171c1a3"
      },
      "source": [
        "# Check some words\n",
        "words_to_test = [\"exciting\", \"hated\", \"boring\", \"loved\"]\n",
        "\n",
        "for word in words_to_test:\n",
        "    x = torch.tensor(normalized_embeddings[index[word]].reshape(1, 300))\n",
        "    print(\"Sentiment of the word '{0}': {1}\".format(word, torch.sigmoid(model(x))))"
      ],
      "execution_count": 61,
      "outputs": [
        {
          "output_type": "stream",
          "text": [
            "Sentiment of the word 'exciting': tensor([[1.]], grad_fn=<SigmoidBackward>)\n",
            "Sentiment of the word 'hated': tensor([[3.7223e-22]], grad_fn=<SigmoidBackward>)\n",
            "Sentiment of the word 'boring': tensor([[1.6236e-17]], grad_fn=<SigmoidBackward>)\n",
            "Sentiment of the word 'loved': tensor([[1.]], grad_fn=<SigmoidBackward>)\n"
          ],
          "name": "stdout"
        }
      ]
    },
    {
      "cell_type": "code",
      "metadata": {
        "id": "ALsxodyJ__NJ"
      },
      "source": [
        "VOCAB_SIZE = 5000\n",
        "EMBED_DIM = 300\n",
        "\n",
        "embedding = nn.Embedding(VOCAB_SIZE, EMBED_DIM)"
      ],
      "execution_count": 62,
      "outputs": []
    },
    {
      "cell_type": "code",
      "metadata": {
        "colab": {
          "base_uri": "https://localhost:8080/"
        },
        "id": "WJzhliOYAEij",
        "outputId": "67ed437d-48bc-4ce9-d349-4518e4e63814"
      },
      "source": [
        "embedding.weight.size()"
      ],
      "execution_count": 63,
      "outputs": [
        {
          "output_type": "execute_result",
          "data": {
            "text/plain": [
              "torch.Size([5000, 300])"
            ]
          },
          "metadata": {
            "tags": []
          },
          "execution_count": 63
        }
      ]
    },
    {
      "cell_type": "code",
      "metadata": {
        "id": "9BPUZ3RXAetv"
      },
      "source": [
        "class SWEMWithEmbeddings(nn.Module):\n",
        "    def __init__(self, vocab_size, embedding_size, hidden_dim, num_outputs):\n",
        "        super().__init__()\n",
        "        self.embedding = nn.Embedding(vocab_size, embedding_size)\n",
        "        self.fc1 = nn.Linear(embedding_size, hidden_dim)\n",
        "        self.fc2 = nn.Linear(hidden_dim, num_outputs)\n",
        "\n",
        "    def forward(self, x):\n",
        "        x = self.embedding(x)\n",
        "        x = torch.mean(x, dim=0)\n",
        "        x = self.fc1(x)\n",
        "        x = F.relu(x)\n",
        "        x = self.fc2(x)\n",
        "        return x"
      ],
      "execution_count": 64,
      "outputs": []
    },
    {
      "cell_type": "code",
      "metadata": {
        "colab": {
          "base_uri": "https://localhost:8080/"
        },
        "id": "Am6Yc8RuAvjz",
        "outputId": "6b79c228-652a-4269-f1f7-77e3d64089be"
      },
      "source": [
        "model = SWEMWithEmbeddings(\n",
        "    vocab_size = 5000,\n",
        "    embedding_size = 300, \n",
        "    hidden_dim = 64, \n",
        "    num_outputs = 1,\n",
        ")\n",
        "print(model)"
      ],
      "execution_count": 65,
      "outputs": [
        {
          "output_type": "stream",
          "text": [
            "SWEMWithEmbeddings(\n",
            "  (embedding): Embedding(5000, 300)\n",
            "  (fc1): Linear(in_features=300, out_features=64, bias=True)\n",
            "  (fc2): Linear(in_features=64, out_features=1, bias=True)\n",
            ")\n"
          ],
          "name": "stdout"
        }
      ]
    },
    {
      "cell_type": "code",
      "metadata": {
        "colab": {
          "base_uri": "https://localhost:8080/"
        },
        "id": "awCTCN-WBbLW",
        "outputId": "06443e5c-192b-44c4-a467-e6d38321a2f8"
      },
      "source": [
        "mb = 1\n",
        "x_dim = 300 \n",
        "sentence = [\"recurrent\", \"neural\", \"networks\", \"are\", \"great\"]\n",
        "\n",
        "xs = []\n",
        "for word in sentence:\n",
        "    xs.append(torch.tensor(normalized_embeddings[index[word]]).view(1, x_dim))\n",
        "    \n",
        "xs = torch.stack(xs, dim=0)\n",
        "print(\"xs shape: {}\".format(xs.shape))"
      ],
      "execution_count": 66,
      "outputs": [
        {
          "output_type": "stream",
          "text": [
            "xs shape: torch.Size([5, 1, 300])\n"
          ],
          "name": "stdout"
        }
      ]
    },
    {
      "cell_type": "code",
      "metadata": {
        "id": "vikZu6zPVsBf"
      },
      "source": [
        "# As always, import PyTorch first\n",
        "import numpy as np\n",
        "import torch"
      ],
      "execution_count": 67,
      "outputs": []
    },
    {
      "cell_type": "code",
      "metadata": {
        "colab": {
          "base_uri": "https://localhost:8080/"
        },
        "id": "bPexZuZEVtN7",
        "outputId": "140da20b-743d-4a30-8952-3592f7bc9c25"
      },
      "source": [
        "h_dim = 128\n",
        "\n",
        "# For projecting the input\n",
        "Wx = torch.randn(x_dim, h_dim)/np.sqrt(x_dim)\n",
        "Wx.requires_grad_()\n",
        "bx = torch.zeros(h_dim, requires_grad=True)\n",
        "\n",
        "# For projecting the previous state\n",
        "Wh = torch.randn(h_dim, h_dim)/np.sqrt(h_dim)\n",
        "Wh.requires_grad_()\n",
        "bh = torch.zeros(h_dim, requires_grad=True)\n",
        "\n",
        "print(Wx.shape, bx.shape, Wh.shape, bh.shape)"
      ],
      "execution_count": 68,
      "outputs": [
        {
          "output_type": "stream",
          "text": [
            "torch.Size([300, 128]) torch.Size([128]) torch.Size([128, 128]) torch.Size([128])\n"
          ],
          "name": "stdout"
        }
      ]
    },
    {
      "cell_type": "code",
      "metadata": {
        "id": "0caP6flEV6d3"
      },
      "source": [
        "def RNN_step(x, h):\n",
        "    h_next = torch.tanh((torch.matmul(x, Wx) + bx) + (torch.matmul(h, Wh) + bh))\n",
        "\n",
        "    return h_next"
      ],
      "execution_count": 69,
      "outputs": []
    },
    {
      "cell_type": "code",
      "metadata": {
        "id": "rVILg4J0WCN3"
      },
      "source": [
        "# Word embedding for first word\n",
        "x1 = xs[0, :, :]\n",
        "\n",
        "# Initialize hidden state to 0\n",
        "h0 = torch.zeros([mb, h_dim])"
      ],
      "execution_count": 70,
      "outputs": []
    },
    {
      "cell_type": "code",
      "metadata": {
        "colab": {
          "base_uri": "https://localhost:8080/"
        },
        "id": "xT3qbOghWJeN",
        "outputId": "640d0676-9e02-4999-cec8-58e4a6e05975"
      },
      "source": [
        "# Forward pass of one RNN step for time step t=1\n",
        "h1 = RNN_step(x1, h0)\n",
        "\n",
        "print(\"Hidden state h1 dimensions: {0}\".format(h1.shape))"
      ],
      "execution_count": 71,
      "outputs": [
        {
          "output_type": "stream",
          "text": [
            "Hidden state h1 dimensions: torch.Size([1, 128])\n"
          ],
          "name": "stdout"
        }
      ]
    },
    {
      "cell_type": "code",
      "metadata": {
        "colab": {
          "base_uri": "https://localhost:8080/"
        },
        "id": "Fw1AeD_eWVrn",
        "outputId": "3519d977-fe94-4651-856f-1c85db0f15a9"
      },
      "source": [
        "# Word embedding for second word\n",
        "x2 = xs[1, :, :]\n",
        "\n",
        "# Forward pass of one RNN step for time step t=2\n",
        "h2 = RNN_step(x2, h1)\n",
        "\n",
        "print(\"Hidden state h2 dimensions: {0}\".format(h2.shape))"
      ],
      "execution_count": 72,
      "outputs": [
        {
          "output_type": "stream",
          "text": [
            "Hidden state h2 dimensions: torch.Size([1, 128])\n"
          ],
          "name": "stdout"
        }
      ]
    },
    {
      "cell_type": "code",
      "metadata": {
        "colab": {
          "base_uri": "https://localhost:8080/"
        },
        "id": "VRQ60Q1WWhWO",
        "outputId": "90e3ffd8-b30b-4d70-ba80-c572f3dbd859"
      },
      "source": [
        "import torch.nn\n",
        "\n",
        "rnn = nn.RNN(x_dim, h_dim)\n",
        "print(\"RNN parameter shapes: {}\".format([p.shape for p in rnn.parameters()]))"
      ],
      "execution_count": 73,
      "outputs": [
        {
          "output_type": "stream",
          "text": [
            "RNN parameter shapes: [torch.Size([128, 300]), torch.Size([128, 128]), torch.Size([128]), torch.Size([128])]\n"
          ],
          "name": "stdout"
        }
      ]
    },
    {
      "cell_type": "code",
      "metadata": {
        "colab": {
          "base_uri": "https://localhost:8080/"
        },
        "id": "527UX21EXgFG",
        "outputId": "d53e34bd-c093-4366-d4d6-8ad3ceea96a4"
      },
      "source": [
        "hs, h_T = rnn(xs)\n",
        "\n",
        "print(\"Hidden states shape: {}\".format(hs.shape))\n",
        "print(\"Final hidden state shape: {}\".format(h_T.shape))"
      ],
      "execution_count": 74,
      "outputs": [
        {
          "output_type": "stream",
          "text": [
            "Hidden states shape: torch.Size([5, 1, 128])\n",
            "Final hidden state shape: torch.Size([1, 1, 128])\n"
          ],
          "name": "stdout"
        }
      ]
    },
    {
      "cell_type": "code",
      "metadata": {
        "colab": {
          "base_uri": "https://localhost:8080/"
        },
        "id": "k7m0IYTkbmf8",
        "outputId": "bfcc7a92-8e2b-4fe9-81e7-20166f858397"
      },
      "source": [
        "lstm = nn.LSTM(x_dim, h_dim)\n",
        "print(\"LSTM parameters: {}\".format([p.shape for p in lstm.parameters()]))\n",
        "\n",
        "gru = nn.GRU(x_dim, h_dim)\n",
        "print(\"GRU parameters: {}\".format([p.shape for p in gru.parameters()]))"
      ],
      "execution_count": 75,
      "outputs": [
        {
          "output_type": "stream",
          "text": [
            "LSTM parameters: [torch.Size([512, 300]), torch.Size([512, 128]), torch.Size([512]), torch.Size([512])]\n",
            "GRU parameters: [torch.Size([384, 300]), torch.Size([384, 128]), torch.Size([384]), torch.Size([384])]\n"
          ],
          "name": "stdout"
        }
      ]
    },
    {
      "cell_type": "code",
      "metadata": {
        "colab": {
          "base_uri": "https://localhost:8080/"
        },
        "id": "oT6Rts4ib0nk",
        "outputId": "2d3f8aac-951b-4634-932e-f0001f0a1a0e"
      },
      "source": [
        "# If you environment isn't currently active, activate it:\n",
        "# conda activate pytorch\n",
        "\n",
        "!pip install torchtext"
      ],
      "execution_count": 79,
      "outputs": [
        {
          "output_type": "stream",
          "text": [
            "Requirement already satisfied: torchtext in /usr/local/lib/python3.7/dist-packages (0.9.1)\n",
            "Requirement already satisfied: torch==1.8.1 in /usr/local/lib/python3.7/dist-packages (from torchtext) (1.8.1+cu101)\n",
            "Requirement already satisfied: requests in /usr/local/lib/python3.7/dist-packages (from torchtext) (2.23.0)\n",
            "Requirement already satisfied: numpy in /usr/local/lib/python3.7/dist-packages (from torchtext) (1.19.5)\n",
            "Requirement already satisfied: tqdm in /usr/local/lib/python3.7/dist-packages (from torchtext) (4.41.1)\n",
            "Requirement already satisfied: typing-extensions in /usr/local/lib/python3.7/dist-packages (from torch==1.8.1->torchtext) (3.7.4.3)\n",
            "Requirement already satisfied: chardet<4,>=3.0.2 in /usr/local/lib/python3.7/dist-packages (from requests->torchtext) (3.0.4)\n",
            "Requirement already satisfied: urllib3!=1.25.0,!=1.25.1,<1.26,>=1.21.1 in /usr/local/lib/python3.7/dist-packages (from requests->torchtext) (1.24.3)\n",
            "Requirement already satisfied: certifi>=2017.4.17 in /usr/local/lib/python3.7/dist-packages (from requests->torchtext) (2020.12.5)\n",
            "Requirement already satisfied: idna<3,>=2.5 in /usr/local/lib/python3.7/dist-packages (from requests->torchtext) (2.10)\n"
          ],
          "name": "stdout"
        }
      ]
    }
  ]
}