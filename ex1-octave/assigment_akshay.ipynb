{
 "cells": [
  {
   "cell_type": "code",
   "execution_count": 41,
   "id": "033f514d",
   "metadata": {},
   "outputs": [],
   "source": [
    "import numpy as np\n",
    "import math\n",
    "from scipy.spatial import distance\n",
    "\n",
    "def fill_diagonal(source_array, diagonal):\n",
    "    copy = source_array.copy()\n",
    "    np.fill_diagonal(copy, diagonal)\n",
    "    return copy\n",
    "\n",
    "def check(x,y,abr = 'EN',X=0.01):\n",
    "    x = np.asarray(x)\n",
    "    y = np.asarray(y)\n",
    "    if abr == 'EN':\n",
    "        d = np.sqrt(sum((e1-e2)**2 for e1, e2 in zip(x,y)))\n",
    "        s = 1/(1+d)\n",
    "        return d,s\n",
    "    elif abr == 'HSN':\n",
    "        a = np.array(x)\n",
    "        b = np.array(y)\n",
    "        d = sum(x)-sum(y)\n",
    "        s = 1/(1+d)\n",
    "        return d,s\n",
    "    elif abr == 'DN':\n",
    "         if len(x) is len(X) and len(y) is len(X):\n",
    "                m = len(X)\n",
    "                A = np.zeros((m,m))\n",
    "                A=fill_diagonal(A, X)\n",
    "                xdiff = x-y\n",
    "                d=np.matmul(np.matmul(xdiff,A),xdiff.T)\n",
    "                if d>0:\n",
    "                    d=np.sqrt(d)\n",
    "                    s = 1/(1+d) \n",
    "                    return d,s\n",
    "                else:\n",
    "                    print(\"Dissimilarity turns out to be the square root of a negative number\")   \n",
    "         else:\n",
    "                print('The vector dimension isnt compatible')        \n",
    "    elif abr == 'MN':\n",
    "        Xt = np.asarray(X)\n",
    "        if(np.size(Xt,1)!=len(x)):\n",
    "            print('The shape of distribution does not conform with the data points')\n",
    "        else:\n",
    "            X_mean = np.mean(X)\n",
    "            p=len(X)\n",
    "            A_mean = X -X_mean\n",
    "            A = np.linalg.inv((1/(p-1))*np.matmul(A_mean.T,A_mean))\n",
    "            xdiff = x-y   \n",
    "            d=np.sqrt(np.matmul(np.matmul(xdiff,A),xdiff.T))\n",
    "            s = 1/(1+d)\n",
    "            return d,s\n",
    "    elif abr == 'LMN':\n",
    "        if X == 0:\n",
    "            print('Similarity/ Dissimilarity measures not defined')\n",
    "        else:    \n",
    "            d=distance.minkowski(x,y,X)\n",
    "            s= 1/(1+d)\n",
    "            return d,s\n",
    "    elif abr == 'CS':\n",
    "        sumxx, sumxy, sumyy = 0, 0, 0\n",
    "        for i in range(len(x)):\n",
    "            v1 = x[i]; v2 = y[i]\n",
    "            sumxx += v1*v1\n",
    "            sumyy += v2*v2\n",
    "            sumxy += v1*v2\n",
    "        s = sumxy/math.sqrt(sumxx*sumyy)\n",
    "        d = 1/s -1\n",
    "        return d,s\n",
    "    elif abr == 'OS':\n",
    "        sumxx, sumxy, sumyy = 0, 0, 0\n",
    "        for i in range(len(x)):\n",
    "            v1 = x[i]; v2 = y[i]\n",
    "            sumxx += v1*v1\n",
    "            sumyy += v2*v2\n",
    "            sumxy += v1*v2\n",
    "        if min(sumxx,sumyy) == 0  and sumxy ==0:\n",
    "            print('Measures not defined; similarity has 0/0 form')\n",
    "        else:\n",
    "            s = sumxy/min(sumxx,sumyy)\n",
    "            d = 1/s -1\n",
    "            return d,s\n",
    "    elif abr == 'DS':\n",
    "        sumxx, sumxy, sumyy = 0, 0, 0\n",
    "        for i in range(len(x)):\n",
    "            v1 = x[i]; v2 = y[i]\n",
    "            sumxx += v1*v1\n",
    "            sumyy += v2*v2\n",
    "            sumxy += v1*v2\n",
    "        s = 2*sumxy/(sumxx + sumyy)\n",
    "        d = 1/s -1\n",
    "        return d,s\n",
    "    elif abr == 'JS':\n",
    "        s1 = 0\n",
    "        s2 = 0 \n",
    "        s3 = 0\n",
    "        for i in range(len(x)):\n",
    "            s1 = s1+ x[i]*y[i]\n",
    "            s2 = s2 + np.square(x[i])\n",
    "            s3 = s3 + np.square(y[i])\n",
    "        s = s1/ (s2+s3-s1)\n",
    "        d = (1/s) -1\n",
    "        return d,s    "
   ]
  },
  {
   "cell_type": "code",
   "execution_count": 45,
   "id": "bd45e7b3",
   "metadata": {},
   "outputs": [],
   "source": [
    "x=[4, 12, 3, 5] \n",
    "y=[9, 8, 2, 3] "
   ]
  },
  {
   "cell_type": "code",
   "execution_count": 46,
   "id": "8ef9b65b",
   "metadata": {},
   "outputs": [
    {
     "data": {
      "text/plain": [
       "(5.2006744337772055, 0.16127277938552234)"
      ]
     },
     "execution_count": 46,
     "metadata": {},
     "output_type": "execute_result"
    }
   ],
   "source": [
    "check(x,y,'LMN',6)"
   ]
  },
  {
   "cell_type": "code",
   "execution_count": 47,
   "id": "02b7a89c",
   "metadata": {},
   "outputs": [
    {
     "data": {
      "text/plain": [
       "(14.035668847618199, 0.06650851452866428)"
      ]
     },
     "execution_count": 47,
     "metadata": {},
     "output_type": "execute_result"
    }
   ],
   "source": [
    "X = [7, 1, 10, -1]\n",
    "check(x,y,'DN',X)"
   ]
  },
  {
   "cell_type": "code",
   "execution_count": 48,
   "id": "a6204156",
   "metadata": {},
   "outputs": [
    {
     "data": {
      "text/plain": [
       "(5.2006744337772055, 0.16127277938552234)"
      ]
     },
     "execution_count": 48,
     "metadata": {},
     "output_type": "execute_result"
    }
   ],
   "source": [
    "check(x,y,'LMN',6)"
   ]
  },
  {
   "cell_type": "code",
   "execution_count": 49,
   "id": "52d26dc8",
   "metadata": {},
   "outputs": [
    {
     "data": {
      "text/plain": [
       "(0.15032679738562105, 0.8693181818181818)"
      ]
     },
     "execution_count": 49,
     "metadata": {},
     "output_type": "execute_result"
    }
   ],
   "source": [
    "check(x,y,'DS')"
   ]
  },
  {
   "cell_type": "code",
   "execution_count": 50,
   "id": "639f1948",
   "metadata": {},
   "outputs": [
    {
     "name": "stdout",
     "output_type": "stream",
     "text": [
      "Dissimilarity turns out to be the square root of a negative number\n"
     ]
    }
   ],
   "source": [
    "x= [1,-2]\n",
    "y = [-11, 4] \n",
    "X = [-11, 4]\n",
    "check(x,y,'DN',X)"
   ]
  },
  {
   "cell_type": "code",
   "execution_count": 51,
   "id": "e6f67304",
   "metadata": {},
   "outputs": [
    {
     "name": "stdout",
     "output_type": "stream",
     "text": [
      "Similarity/ Dissimilarity measures not defined\n"
     ]
    }
   ],
   "source": [
    "x=[4, 12, 3, 5] \n",
    "y=[9, 8, 2, 3] \n",
    "check(x,y,'LMN',0)"
   ]
  },
  {
   "cell_type": "code",
   "execution_count": 52,
   "id": "9e288c32",
   "metadata": {},
   "outputs": [
    {
     "data": {
      "text/plain": [
       "(0.30065359477124187, 0.7688442211055276)"
      ]
     },
     "execution_count": 52,
     "metadata": {},
     "output_type": "execute_result"
    }
   ],
   "source": [
    "check(x,y,'JS')"
   ]
  },
  {
   "cell_type": "code",
   "execution_count": 53,
   "id": "d0321edc",
   "metadata": {},
   "outputs": [],
   "source": [
    "Z =[[-13,2,1,6],\n",
    "[17,5,-8,2],\n",
    "[44, 23,73,-11]]"
   ]
  },
  {
   "cell_type": "code",
   "execution_count": 54,
   "id": "ce5ef9e2",
   "metadata": {},
   "outputs": [
    {
     "data": {
      "text/plain": [
       "(0.03267973856209139, 0.9683544303797469)"
      ]
     },
     "execution_count": 54,
     "metadata": {},
     "output_type": "execute_result"
    }
   ],
   "source": [
    "check(x,y,'OS')"
   ]
  },
  {
   "cell_type": "code",
   "execution_count": 55,
   "id": "10c1ff99",
   "metadata": {},
   "outputs": [
    {
     "data": {
      "text/plain": [
       "(0.30065359477124187, 0.7688442211055276)"
      ]
     },
     "execution_count": 55,
     "metadata": {},
     "output_type": "execute_result"
    }
   ],
   "source": [
    "check(x,y,'JS')"
   ]
  },
  {
   "cell_type": "code",
   "execution_count": null,
   "id": "d0cd940a",
   "metadata": {},
   "outputs": [],
   "source": []
  }
 ],
 "metadata": {
  "kernelspec": {
   "display_name": "Python 3",
   "language": "python",
   "name": "python3"
  },
  "language_info": {
   "codemirror_mode": {
    "name": "ipython",
    "version": 3
   },
   "file_extension": ".py",
   "mimetype": "text/x-python",
   "name": "python",
   "nbconvert_exporter": "python",
   "pygments_lexer": "ipython3",
   "version": "3.8.8"
  }
 },
 "nbformat": 4,
 "nbformat_minor": 5
}
